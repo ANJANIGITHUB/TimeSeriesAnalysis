{
 "cells": [
  {
   "cell_type": "markdown",
   "id": "698a4847",
   "metadata": {},
   "source": [
    "### Import Libraries"
   ]
  },
  {
   "cell_type": "code",
   "execution_count": 1,
   "id": "82d8e645",
   "metadata": {},
   "outputs": [],
   "source": [
    "import pandas as pd\n",
    "import numpy as np\n",
    "import matplotlib.pyplot as plt\n",
    "import seaborn as sns\n",
    "from statsmodels.tsa.stattools import adfuller\n",
    "from sklearn.metrics import mean_squared_error\n",
    "from statsmodels.tsa.arima.model import ARIMA\n",
    "from statsmodels.graphics.tsaplots import plot_acf,plot_pacf\n",
    "import statsmodels.api as sm\n",
    "from matplotlib.pyplot import figure\n",
    "from math import sqrt\n"
   ]
  },
  {
   "cell_type": "markdown",
   "id": "e7bcf8c4",
   "metadata": {},
   "source": [
    "### Load the Data"
   ]
  },
  {
   "cell_type": "code",
   "execution_count": 2,
   "id": "61bb3dfd",
   "metadata": {},
   "outputs": [],
   "source": [
    "df=pd.read_csv(\"appliance_energy_usage.csv\")"
   ]
  },
  {
   "cell_type": "markdown",
   "id": "a964386e",
   "metadata": {},
   "source": [
    "### EDA"
   ]
  },
  {
   "cell_type": "code",
   "execution_count": 3,
   "id": "3151a105",
   "metadata": {},
   "outputs": [
    {
     "data": {
      "text/html": [
       "<div>\n",
       "<style scoped>\n",
       "    .dataframe tbody tr th:only-of-type {\n",
       "        vertical-align: middle;\n",
       "    }\n",
       "\n",
       "    .dataframe tbody tr th {\n",
       "        vertical-align: top;\n",
       "    }\n",
       "\n",
       "    .dataframe thead th {\n",
       "        text-align: right;\n",
       "    }\n",
       "</style>\n",
       "<table border=\"1\" class=\"dataframe\">\n",
       "  <thead>\n",
       "    <tr style=\"text-align: right;\">\n",
       "      <th></th>\n",
       "      <th>date</th>\n",
       "      <th>Appliances</th>\n",
       "      <th>lights</th>\n",
       "      <th>T_out</th>\n",
       "      <th>Press_mm_hg</th>\n",
       "      <th>RH_out</th>\n",
       "      <th>Windspeed</th>\n",
       "      <th>Tdewpoint</th>\n",
       "      <th>Visibility</th>\n",
       "    </tr>\n",
       "  </thead>\n",
       "  <tbody>\n",
       "    <tr>\n",
       "      <th>0</th>\n",
       "      <td>1/11/2016 17:00</td>\n",
       "      <td>60</td>\n",
       "      <td>30</td>\n",
       "      <td>6.600000</td>\n",
       "      <td>733.5</td>\n",
       "      <td>92.0</td>\n",
       "      <td>7.000000</td>\n",
       "      <td>5.3</td>\n",
       "      <td>63.000000</td>\n",
       "    </tr>\n",
       "    <tr>\n",
       "      <th>1</th>\n",
       "      <td>1/11/2016 17:10</td>\n",
       "      <td>60</td>\n",
       "      <td>30</td>\n",
       "      <td>6.483333</td>\n",
       "      <td>733.6</td>\n",
       "      <td>92.0</td>\n",
       "      <td>6.666667</td>\n",
       "      <td>5.2</td>\n",
       "      <td>59.166667</td>\n",
       "    </tr>\n",
       "    <tr>\n",
       "      <th>2</th>\n",
       "      <td>1/11/2016 17:20</td>\n",
       "      <td>50</td>\n",
       "      <td>30</td>\n",
       "      <td>6.366667</td>\n",
       "      <td>733.7</td>\n",
       "      <td>92.0</td>\n",
       "      <td>6.333333</td>\n",
       "      <td>5.1</td>\n",
       "      <td>55.333333</td>\n",
       "    </tr>\n",
       "    <tr>\n",
       "      <th>3</th>\n",
       "      <td>1/11/2016 17:30</td>\n",
       "      <td>50</td>\n",
       "      <td>40</td>\n",
       "      <td>6.250000</td>\n",
       "      <td>733.8</td>\n",
       "      <td>92.0</td>\n",
       "      <td>6.000000</td>\n",
       "      <td>5.0</td>\n",
       "      <td>51.500000</td>\n",
       "    </tr>\n",
       "    <tr>\n",
       "      <th>4</th>\n",
       "      <td>1/11/2016 17:40</td>\n",
       "      <td>60</td>\n",
       "      <td>40</td>\n",
       "      <td>6.133333</td>\n",
       "      <td>733.9</td>\n",
       "      <td>92.0</td>\n",
       "      <td>5.666667</td>\n",
       "      <td>4.9</td>\n",
       "      <td>47.666667</td>\n",
       "    </tr>\n",
       "  </tbody>\n",
       "</table>\n",
       "</div>"
      ],
      "text/plain": [
       "              date  Appliances  lights     T_out  Press_mm_hg  RH_out  \\\n",
       "0  1/11/2016 17:00          60      30  6.600000        733.5    92.0   \n",
       "1  1/11/2016 17:10          60      30  6.483333        733.6    92.0   \n",
       "2  1/11/2016 17:20          50      30  6.366667        733.7    92.0   \n",
       "3  1/11/2016 17:30          50      40  6.250000        733.8    92.0   \n",
       "4  1/11/2016 17:40          60      40  6.133333        733.9    92.0   \n",
       "\n",
       "   Windspeed  Tdewpoint  Visibility  \n",
       "0   7.000000        5.3   63.000000  \n",
       "1   6.666667        5.2   59.166667  \n",
       "2   6.333333        5.1   55.333333  \n",
       "3   6.000000        5.0   51.500000  \n",
       "4   5.666667        4.9   47.666667  "
      ]
     },
     "execution_count": 3,
     "metadata": {},
     "output_type": "execute_result"
    }
   ],
   "source": [
    "df.head()"
   ]
  },
  {
   "cell_type": "code",
   "execution_count": 4,
   "id": "58e46140",
   "metadata": {},
   "outputs": [
    {
     "data": {
      "text/plain": [
       "date            object\n",
       "Appliances       int64\n",
       "lights           int64\n",
       "T_out          float64\n",
       "Press_mm_hg    float64\n",
       "RH_out         float64\n",
       "Windspeed      float64\n",
       "Tdewpoint      float64\n",
       "Visibility     float64\n",
       "dtype: object"
      ]
     },
     "execution_count": 4,
     "metadata": {},
     "output_type": "execute_result"
    }
   ],
   "source": [
    "df.dtypes"
   ]
  },
  {
   "cell_type": "code",
   "execution_count": 5,
   "id": "ac4fe270",
   "metadata": {},
   "outputs": [
    {
     "data": {
      "text/plain": [
       "date           0\n",
       "Appliances     0\n",
       "lights         0\n",
       "T_out          0\n",
       "Press_mm_hg    0\n",
       "RH_out         0\n",
       "Windspeed      0\n",
       "Tdewpoint      0\n",
       "Visibility     0\n",
       "dtype: int64"
      ]
     },
     "execution_count": 5,
     "metadata": {},
     "output_type": "execute_result"
    }
   ],
   "source": [
    "df.isnull().sum()"
   ]
  },
  {
   "cell_type": "code",
   "execution_count": 6,
   "id": "69352d42",
   "metadata": {},
   "outputs": [],
   "source": [
    "df_final=df.loc[:,['date','Appliances']]"
   ]
  },
  {
   "cell_type": "code",
   "execution_count": 7,
   "id": "bbbc4ad0",
   "metadata": {},
   "outputs": [
    {
     "data": {
      "text/html": [
       "<div>\n",
       "<style scoped>\n",
       "    .dataframe tbody tr th:only-of-type {\n",
       "        vertical-align: middle;\n",
       "    }\n",
       "\n",
       "    .dataframe tbody tr th {\n",
       "        vertical-align: top;\n",
       "    }\n",
       "\n",
       "    .dataframe thead th {\n",
       "        text-align: right;\n",
       "    }\n",
       "</style>\n",
       "<table border=\"1\" class=\"dataframe\">\n",
       "  <thead>\n",
       "    <tr style=\"text-align: right;\">\n",
       "      <th></th>\n",
       "      <th>date</th>\n",
       "      <th>Appliances</th>\n",
       "    </tr>\n",
       "  </thead>\n",
       "  <tbody>\n",
       "    <tr>\n",
       "      <th>0</th>\n",
       "      <td>1/11/2016 17:00</td>\n",
       "      <td>60</td>\n",
       "    </tr>\n",
       "    <tr>\n",
       "      <th>1</th>\n",
       "      <td>1/11/2016 17:10</td>\n",
       "      <td>60</td>\n",
       "    </tr>\n",
       "    <tr>\n",
       "      <th>2</th>\n",
       "      <td>1/11/2016 17:20</td>\n",
       "      <td>50</td>\n",
       "    </tr>\n",
       "    <tr>\n",
       "      <th>3</th>\n",
       "      <td>1/11/2016 17:30</td>\n",
       "      <td>50</td>\n",
       "    </tr>\n",
       "    <tr>\n",
       "      <th>4</th>\n",
       "      <td>1/11/2016 17:40</td>\n",
       "      <td>60</td>\n",
       "    </tr>\n",
       "  </tbody>\n",
       "</table>\n",
       "</div>"
      ],
      "text/plain": [
       "              date  Appliances\n",
       "0  1/11/2016 17:00          60\n",
       "1  1/11/2016 17:10          60\n",
       "2  1/11/2016 17:20          50\n",
       "3  1/11/2016 17:30          50\n",
       "4  1/11/2016 17:40          60"
      ]
     },
     "execution_count": 7,
     "metadata": {},
     "output_type": "execute_result"
    }
   ],
   "source": [
    "df_final.head()"
   ]
  },
  {
   "cell_type": "code",
   "execution_count": 8,
   "id": "19a4886e",
   "metadata": {},
   "outputs": [],
   "source": [
    "df_final['date'] = pd.to_datetime(df_final['date'])"
   ]
  },
  {
   "cell_type": "code",
   "execution_count": 9,
   "id": "3bed871c",
   "metadata": {},
   "outputs": [
    {
     "data": {
      "text/plain": [
       "date          datetime64[ns]\n",
       "Appliances             int64\n",
       "dtype: object"
      ]
     },
     "execution_count": 9,
     "metadata": {},
     "output_type": "execute_result"
    }
   ],
   "source": [
    "df_final.dtypes"
   ]
  },
  {
   "cell_type": "code",
   "execution_count": 10,
   "id": "6c1abee0",
   "metadata": {},
   "outputs": [
    {
     "data": {
      "text/html": [
       "<div>\n",
       "<style scoped>\n",
       "    .dataframe tbody tr th:only-of-type {\n",
       "        vertical-align: middle;\n",
       "    }\n",
       "\n",
       "    .dataframe tbody tr th {\n",
       "        vertical-align: top;\n",
       "    }\n",
       "\n",
       "    .dataframe thead th {\n",
       "        text-align: right;\n",
       "    }\n",
       "</style>\n",
       "<table border=\"1\" class=\"dataframe\">\n",
       "  <thead>\n",
       "    <tr style=\"text-align: right;\">\n",
       "      <th></th>\n",
       "      <th>date</th>\n",
       "      <th>Appliances</th>\n",
       "    </tr>\n",
       "  </thead>\n",
       "  <tbody>\n",
       "    <tr>\n",
       "      <th>0</th>\n",
       "      <td>2016-01-11 17:00:00</td>\n",
       "      <td>60</td>\n",
       "    </tr>\n",
       "    <tr>\n",
       "      <th>1</th>\n",
       "      <td>2016-01-11 17:10:00</td>\n",
       "      <td>60</td>\n",
       "    </tr>\n",
       "    <tr>\n",
       "      <th>2</th>\n",
       "      <td>2016-01-11 17:20:00</td>\n",
       "      <td>50</td>\n",
       "    </tr>\n",
       "    <tr>\n",
       "      <th>3</th>\n",
       "      <td>2016-01-11 17:30:00</td>\n",
       "      <td>50</td>\n",
       "    </tr>\n",
       "    <tr>\n",
       "      <th>4</th>\n",
       "      <td>2016-01-11 17:40:00</td>\n",
       "      <td>60</td>\n",
       "    </tr>\n",
       "  </tbody>\n",
       "</table>\n",
       "</div>"
      ],
      "text/plain": [
       "                 date  Appliances\n",
       "0 2016-01-11 17:00:00          60\n",
       "1 2016-01-11 17:10:00          60\n",
       "2 2016-01-11 17:20:00          50\n",
       "3 2016-01-11 17:30:00          50\n",
       "4 2016-01-11 17:40:00          60"
      ]
     },
     "execution_count": 10,
     "metadata": {},
     "output_type": "execute_result"
    }
   ],
   "source": [
    "df_final.head()"
   ]
  },
  {
   "cell_type": "code",
   "execution_count": 11,
   "id": "0a497c89",
   "metadata": {},
   "outputs": [],
   "source": [
    "df_final=df_final.set_index('date')"
   ]
  },
  {
   "cell_type": "code",
   "execution_count": 12,
   "id": "9a8a6afb",
   "metadata": {},
   "outputs": [
    {
     "data": {
      "text/html": [
       "<div>\n",
       "<style scoped>\n",
       "    .dataframe tbody tr th:only-of-type {\n",
       "        vertical-align: middle;\n",
       "    }\n",
       "\n",
       "    .dataframe tbody tr th {\n",
       "        vertical-align: top;\n",
       "    }\n",
       "\n",
       "    .dataframe thead th {\n",
       "        text-align: right;\n",
       "    }\n",
       "</style>\n",
       "<table border=\"1\" class=\"dataframe\">\n",
       "  <thead>\n",
       "    <tr style=\"text-align: right;\">\n",
       "      <th></th>\n",
       "      <th>Appliances</th>\n",
       "    </tr>\n",
       "    <tr>\n",
       "      <th>date</th>\n",
       "      <th></th>\n",
       "    </tr>\n",
       "  </thead>\n",
       "  <tbody>\n",
       "    <tr>\n",
       "      <th>2016-01-11 17:00:00</th>\n",
       "      <td>60</td>\n",
       "    </tr>\n",
       "    <tr>\n",
       "      <th>2016-01-11 17:10:00</th>\n",
       "      <td>60</td>\n",
       "    </tr>\n",
       "    <tr>\n",
       "      <th>2016-01-11 17:20:00</th>\n",
       "      <td>50</td>\n",
       "    </tr>\n",
       "    <tr>\n",
       "      <th>2016-01-11 17:30:00</th>\n",
       "      <td>50</td>\n",
       "    </tr>\n",
       "    <tr>\n",
       "      <th>2016-01-11 17:40:00</th>\n",
       "      <td>60</td>\n",
       "    </tr>\n",
       "  </tbody>\n",
       "</table>\n",
       "</div>"
      ],
      "text/plain": [
       "                     Appliances\n",
       "date                           \n",
       "2016-01-11 17:00:00          60\n",
       "2016-01-11 17:10:00          60\n",
       "2016-01-11 17:20:00          50\n",
       "2016-01-11 17:30:00          50\n",
       "2016-01-11 17:40:00          60"
      ]
     },
     "execution_count": 12,
     "metadata": {},
     "output_type": "execute_result"
    }
   ],
   "source": [
    "df_final.head()"
   ]
  },
  {
   "cell_type": "code",
   "execution_count": 13,
   "id": "b6796bc6",
   "metadata": {},
   "outputs": [],
   "source": [
    "df_final=df_final.resample('1H').mean()"
   ]
  },
  {
   "cell_type": "code",
   "execution_count": 14,
   "id": "45f8c721",
   "metadata": {},
   "outputs": [
    {
     "data": {
      "text/html": [
       "<div>\n",
       "<style scoped>\n",
       "    .dataframe tbody tr th:only-of-type {\n",
       "        vertical-align: middle;\n",
       "    }\n",
       "\n",
       "    .dataframe tbody tr th {\n",
       "        vertical-align: top;\n",
       "    }\n",
       "\n",
       "    .dataframe thead th {\n",
       "        text-align: right;\n",
       "    }\n",
       "</style>\n",
       "<table border=\"1\" class=\"dataframe\">\n",
       "  <thead>\n",
       "    <tr style=\"text-align: right;\">\n",
       "      <th></th>\n",
       "      <th>Appliances</th>\n",
       "    </tr>\n",
       "    <tr>\n",
       "      <th>date</th>\n",
       "      <th></th>\n",
       "    </tr>\n",
       "  </thead>\n",
       "  <tbody>\n",
       "    <tr>\n",
       "      <th>2016-01-11 17:00:00</th>\n",
       "      <td>55.000000</td>\n",
       "    </tr>\n",
       "    <tr>\n",
       "      <th>2016-01-11 18:00:00</th>\n",
       "      <td>176.666667</td>\n",
       "    </tr>\n",
       "    <tr>\n",
       "      <th>2016-01-11 19:00:00</th>\n",
       "      <td>173.333333</td>\n",
       "    </tr>\n",
       "    <tr>\n",
       "      <th>2016-01-11 20:00:00</th>\n",
       "      <td>125.000000</td>\n",
       "    </tr>\n",
       "    <tr>\n",
       "      <th>2016-01-11 21:00:00</th>\n",
       "      <td>103.333333</td>\n",
       "    </tr>\n",
       "  </tbody>\n",
       "</table>\n",
       "</div>"
      ],
      "text/plain": [
       "                     Appliances\n",
       "date                           \n",
       "2016-01-11 17:00:00   55.000000\n",
       "2016-01-11 18:00:00  176.666667\n",
       "2016-01-11 19:00:00  173.333333\n",
       "2016-01-11 20:00:00  125.000000\n",
       "2016-01-11 21:00:00  103.333333"
      ]
     },
     "execution_count": 14,
     "metadata": {},
     "output_type": "execute_result"
    }
   ],
   "source": [
    "df_final.head()"
   ]
  },
  {
   "cell_type": "code",
   "execution_count": 15,
   "id": "99eb0030",
   "metadata": {},
   "outputs": [
    {
     "data": {
      "image/png": "[encoded data removed]",
      "text/plain": [
       "<Figure size 1440x720 with 1 Axes>"
      ]
     },
     "metadata": {
      "needs_background": "light"
     },
     "output_type": "display_data"
    }
   ],
   "source": [
    "#df_final[0:720].plot(figsize=(20,10))\n",
    "df_final.plot(figsize=(20,10))\n",
    "plt.show()"
   ]
  },
  {
   "cell_type": "markdown",
   "id": "3ab4d954",
   "metadata": {},
   "source": [
    "### Null Hypothesis - Series possesses a unit root and hence is not stationary\n",
    "\n",
    "### Alternate Hypothesis - Series is stationary"
   ]
  },
  {
   "cell_type": "code",
   "execution_count": 16,
   "id": "077f0e31",
   "metadata": {},
   "outputs": [],
   "source": [
    "def adfuller_test(series):\n",
    "    result=adfuller(series)\n",
    "    labels = ['ADF Test Statistic','p-value','#Lags Used','Number of Observations Used']\n",
    "    for value,label in zip(result,labels):\n",
    "        print(label+' : '+str(value) )\n",
    "    if result[1] <= 0.05:\n",
    "        print(\"strong evidence against the null hypothesis(Ho), reject the null hypothesis. Data has no unit root and is stationary\")\n",
    "    else:\n",
    "        print(\"weak evidence against null hypothesis, time series has a unit root, indicating it is non-stationary \")"
   ]
  },
  {
   "cell_type": "code",
   "execution_count": 17,
   "id": "b253f5f8",
   "metadata": {},
   "outputs": [
    {
     "name": "stdout",
     "output_type": "stream",
     "text": [
      "ADF Test Statistic : -8.948888280256897\n",
      "p-value : 8.833753129593984e-15\n",
      "#Lags Used : 29\n",
      "Number of Observations Used : 3260\n",
      "strong evidence against the null hypothesis(Ho), reject the null hypothesis. Data has no unit root and is stationary\n"
     ]
    }
   ],
   "source": [
    "adfuller_test(df_final['Appliances'])"
   ]
  },
  {
   "cell_type": "code",
   "execution_count": 18,
   "id": "c0b1c989",
   "metadata": {},
   "outputs": [
    {
     "name": "stdout",
     "output_type": "stream",
     "text": [
      "Length of the dataset is 3290 Rows\n"
     ]
    }
   ],
   "source": [
    "print(\"Length of the dataset is {} Rows\".format(len(df_final['Appliances'])))"
   ]
  },
  {
   "cell_type": "code",
   "execution_count": 19,
   "id": "0da32e27",
   "metadata": {},
   "outputs": [
    {
     "name": "stdout",
     "output_type": "stream",
     "text": [
      "Full Data Size     : 3290\n",
      "Training Data Size : 3200\n",
      "Testing Data Size  : 90\n"
     ]
    }
   ],
   "source": [
    "X = df_final.values\n",
    "train = X[0:3200] # 3200 data as train data\n",
    "test  = X[3200:3290]  # 90 data as test data\n",
    "predictions = []\n",
    "\n",
    "print('Full Data Size     :',X.size)\n",
    "print('Training Data Size :',train.size)\n",
    "print('Testing Data Size  :',test.size)"
   ]
  },
  {
   "cell_type": "markdown",
   "id": "6db9026c",
   "metadata": {},
   "source": [
    "### Plot ACF"
   ]
  },
  {
   "cell_type": "code",
   "execution_count": 20,
   "id": "c80c9270",
   "metadata": {},
   "outputs": [
    {
     "data": {
      "image/png": "[encoded data removed]",
      "text/plain": [
       "<Figure size 1080x360 with 1 Axes>"
      ]
     },
     "metadata": {
      "needs_background": "light"
     },
     "output_type": "display_data"
    }
   ],
   "source": [
    "plt.rc(\"figure\", figsize=(15,5))\n",
    "plot_acf(df_final[0:3200],lags=20)\n",
    "plt.show()"
   ]
  },
  {
   "cell_type": "markdown",
   "id": "85fa74cd",
   "metadata": {},
   "source": [
    "### Plot PACF"
   ]
  },
  {
   "cell_type": "code",
   "execution_count": 21,
   "id": "8ab3c942",
   "metadata": {},
   "outputs": [
    {
     "data": {
      "image/png": "[encoded data removed]",
      "text/plain": [
       "<Figure size 1080x360 with 1 Axes>"
      ]
     },
     "metadata": {
      "needs_background": "light"
     },
     "output_type": "display_data"
    }
   ],
   "source": [
    "plt.rc(\"figure\", figsize=(15,5))\n",
    "plot_pacf(df_final[0:3200], lags=20,method='ywm')\n",
    "plt.show()"
   ]
  },
  {
   "cell_type": "code",
   "execution_count": 22,
   "id": "00e5bafc",
   "metadata": {},
   "outputs": [
    {
     "name": "stderr",
     "output_type": "stream",
     "text": [
      "C:\\Users\\AKU493\\Anaconda3\\lib\\site-packages\\statsmodels\\base\\model.py:604: ConvergenceWarning: Maximum Likelihood optimization failed to converge. Check mle_retvals\n",
      "  warnings.warn(\"Maximum Likelihood optimization failed to \"\n"
     ]
    }
   ],
   "source": [
    "#p,d,q  \n",
    "#p = periods taken for autoregressive model\n",
    "#d -> Integrated order, difference\n",
    "# q periods in moving average model\n",
    "model_arima = ARIMA(train,order=(11,0,5))\n",
    "model_arima_fit = model_arima.fit()\n"
   ]
  },
  {
   "cell_type": "code",
   "execution_count": 23,
   "id": "72f52e90",
   "metadata": {},
   "outputs": [
    {
     "name": "stdout",
     "output_type": "stream",
     "text": [
      "                               SARIMAX Results                                \n",
      "==============================================================================\n",
      "Dep. Variable:                      y   No. Observations:                 3200\n",
      "Model:                ARIMA(11, 0, 5)   Log Likelihood              -17787.023\n",
      "Date:                Thu, 20 Oct 2022   AIC                          35610.046\n",
      "Time:                        19:23:25   BIC                          35719.322\n",
      "Sample:                             0   HQIC                         35649.224\n",
      "                               - 3200                                         \n",
      "Covariance Type:                  opg                                         \n",
      "==============================================================================\n",
      "                 coef    std err          z      P>|z|      [0.025      0.975]\n",
      "------------------------------------------------------------------------------\n",
      "const         97.2031      5.185     18.747      0.000      87.041     107.365\n",
      "ar.L1         -0.4357      0.097     -4.481      0.000      -0.626      -0.245\n",
      "ar.L2          2.2125      0.054     41.327      0.000       2.108       2.317\n",
      "ar.L3          0.9705      0.199      4.868      0.000       0.580       1.361\n",
      "ar.L4         -1.9359      0.096    -20.121      0.000      -2.125      -1.747\n",
      "ar.L5         -0.8206      0.140     -5.842      0.000      -1.096      -0.545\n",
      "ar.L6          0.6743      0.069      9.745      0.000       0.539       0.810\n",
      "ar.L7          0.2343      0.053      4.456      0.000       0.131       0.337\n",
      "ar.L8         -0.0810      0.042     -1.938      0.053      -0.163       0.001\n",
      "ar.L9         -0.0751      0.041     -1.815      0.069      -0.156       0.006\n",
      "ar.L10         0.0110      0.018      0.607      0.544      -0.024       0.046\n",
      "ar.L11         0.0258      0.018      1.418      0.156      -0.010       0.062\n",
      "ma.L1          0.8462      0.097      8.743      0.000       0.656       1.036\n",
      "ma.L2         -1.6639      0.033    -49.775      0.000      -1.729      -1.598\n",
      "ma.L3         -1.5055      0.175     -8.584      0.000      -1.849      -1.162\n",
      "ma.L4          0.9230      0.033     28.152      0.000       0.859       0.987\n",
      "ma.L5          0.9071      0.097      9.369      0.000       0.717       1.097\n",
      "sigma2      4095.4666     67.855     60.356      0.000    3962.473    4228.460\n",
      "===================================================================================\n",
      "Ljung-Box (L1) (Q):                   0.21   Jarque-Bera (JB):             13630.89\n",
      "Prob(Q):                              0.65   Prob(JB):                         0.00\n",
      "Heteroskedasticity (H):               0.64   Skew:                             2.31\n",
      "Prob(H) (two-sided):                  0.00   Kurtosis:                        11.99\n",
      "===================================================================================\n",
      "\n",
      "Warnings:\n",
      "[1] Covariance matrix calculated using the outer product of gradients (complex-step).\n"
     ]
    }
   ],
   "source": [
    "print(model_arima_fit.summary())  "
   ]
  },
  {
   "cell_type": "code",
   "execution_count": 24,
   "id": "2eaae22b",
   "metadata": {},
   "outputs": [],
   "source": [
    "# #p,d,q  \n",
    "# #p = periods taken for autoregressive model\n",
    "# #d -> Integrated order, difference\n",
    "# # q periods in moving average model\n",
    "# model_arima = ARIMA(train,order=(50,0,50))\n",
    "# model_arima_fit = model_arima.fit()"
   ]
  },
  {
   "cell_type": "code",
   "execution_count": 25,
   "id": "67e4a328",
   "metadata": {},
   "outputs": [],
   "source": [
    "# print(model_arima_fit.summary())  "
   ]
  },
  {
   "cell_type": "code",
   "execution_count": 26,
   "id": "5e5cdd1c",
   "metadata": {},
   "outputs": [],
   "source": [
    "# grid search ARIMA parameters for time series\n",
    "\n",
    "\n",
    "# def evaluate_arima_model(X, arima_order):\n",
    "# \t# prepare training dataset\n",
    "# \ttrain_size = int(len(X) * 0.80)\n",
    "# \ttrain, test = X[0:train_size], X[train_size:]\n",
    "# \thistory = [x for x in train]\n",
    "# \t# make predictions\n",
    "# \tpredictions = list()\n",
    "# \tfor t in range(len(test)):\n",
    "# \t\tmodel = ARIMA(history, order=arima_order)\n",
    "# \t\tmodel_fit = model.fit()\n",
    "# \t\tyhat = model_fit.forecast()[0]\n",
    "# \t\tpredictions.append(yhat)\n",
    "# \t\thistory.append(test[t])\n",
    "# \t# calculate out of sample error\n",
    "# \trmse = sqrt(mean_squared_error(test, predictions))\n",
    "# \treturn rmse\n",
    "#  # evaluate combinations of p, d and q values for an ARIMA model\n",
    "# def evaluate_models(dataset, p_values, d_values, q_values):\n",
    "# \tdataset = dataset.astype('float32')\n",
    "# \tbest_score, best_cfg = float(\"inf\"), None\n",
    "# \tfor p in p_values:\n",
    "# \t\tfor d in d_values:\n",
    "# \t\t\tfor q in q_values:\n",
    "# \t\t\t\torder = (p,d,q)\n",
    "# \t\t\t\ttry:\n",
    "# \t\t\t\t\trmse = evaluate_arima_model(dataset, order)\n",
    "# \t\t\t\t\tif rmse < best_score:\n",
    "# \t\t\t\t\t\tbest_score, best_cfg = rmse, order\n",
    "# \t\t\t\t\tprint('ARIMA%s RMSE=%.3f' % (order,rmse))\n",
    "# \t\t\t\texcept:\n",
    "# \t\t\t\t\tcontinue\n",
    "# \tprint('Best ARIMA%s RMSE=%.3f' % (best_cfg, best_score))"
   ]
  },
  {
   "cell_type": "code",
   "execution_count": 27,
   "id": "9f2bf1d1",
   "metadata": {},
   "outputs": [],
   "source": [
    "# # evaluate parameters\n",
    "# p_values = [1,2] \n",
    "# d_values = range(0, 1)\n",
    "# q_values = [1,2]#range(0, 3)\n",
    "\n",
    "# evaluate_models(df_final['Appliances'], p_values, d_values, q_values)"
   ]
  },
  {
   "cell_type": "code",
   "execution_count": 28,
   "id": "f7989c12",
   "metadata": {},
   "outputs": [],
   "source": [
    "predict = model_arima_fit.get_prediction(start=len(train),end=len(train) + 89)\n",
    "\n",
    "predictions=predict.predicted_mean"
   ]
  },
  {
   "cell_type": "code",
   "execution_count": 29,
   "id": "7d46b922",
   "metadata": {},
   "outputs": [
    {
     "data": {
      "text/html": [
       "<div>\n",
       "<style scoped>\n",
       "    .dataframe tbody tr th:only-of-type {\n",
       "        vertical-align: middle;\n",
       "    }\n",
       "\n",
       "    .dataframe tbody tr th {\n",
       "        vertical-align: top;\n",
       "    }\n",
       "\n",
       "    .dataframe thead th {\n",
       "        text-align: right;\n",
       "    }\n",
       "</style>\n",
       "<table border=\"1\" class=\"dataframe\">\n",
       "  <thead>\n",
       "    <tr style=\"text-align: right;\">\n",
       "      <th></th>\n",
       "      <th>Predicted</th>\n",
       "    </tr>\n",
       "  </thead>\n",
       "  <tbody>\n",
       "    <tr>\n",
       "      <th>0</th>\n",
       "      <td>49.207286</td>\n",
       "    </tr>\n",
       "    <tr>\n",
       "      <th>1</th>\n",
       "      <td>56.974923</td>\n",
       "    </tr>\n",
       "    <tr>\n",
       "      <th>2</th>\n",
       "      <td>54.277699</td>\n",
       "    </tr>\n",
       "    <tr>\n",
       "      <th>3</th>\n",
       "      <td>63.856030</td>\n",
       "    </tr>\n",
       "    <tr>\n",
       "      <th>4</th>\n",
       "      <td>66.210337</td>\n",
       "    </tr>\n",
       "  </tbody>\n",
       "</table>\n",
       "</div>"
      ],
      "text/plain": [
       "   Predicted\n",
       "0  49.207286\n",
       "1  56.974923\n",
       "2  54.277699\n",
       "3  63.856030\n",
       "4  66.210337"
      ]
     },
     "execution_count": 29,
     "metadata": {},
     "output_type": "execute_result"
    }
   ],
   "source": [
    "predictions=pd.DataFrame(predictions,columns=['Predicted'])\n",
    "predictions.head()"
   ]
  },
  {
   "cell_type": "code",
   "execution_count": 30,
   "id": "12d17fd9",
   "metadata": {},
   "outputs": [],
   "source": [
    "test_data=pd.DataFrame(test,columns=['Appliances'])"
   ]
  },
  {
   "cell_type": "code",
   "execution_count": 31,
   "id": "a6617b87",
   "metadata": {},
   "outputs": [
    {
     "data": {
      "text/html": [
       "<div>\n",
       "<style scoped>\n",
       "    .dataframe tbody tr th:only-of-type {\n",
       "        vertical-align: middle;\n",
       "    }\n",
       "\n",
       "    .dataframe tbody tr th {\n",
       "        vertical-align: top;\n",
       "    }\n",
       "\n",
       "    .dataframe thead th {\n",
       "        text-align: right;\n",
       "    }\n",
       "</style>\n",
       "<table border=\"1\" class=\"dataframe\">\n",
       "  <thead>\n",
       "    <tr style=\"text-align: right;\">\n",
       "      <th></th>\n",
       "      <th>Appliances</th>\n",
       "    </tr>\n",
       "  </thead>\n",
       "  <tbody>\n",
       "    <tr>\n",
       "      <th>0</th>\n",
       "      <td>56.666667</td>\n",
       "    </tr>\n",
       "    <tr>\n",
       "      <th>1</th>\n",
       "      <td>55.000000</td>\n",
       "    </tr>\n",
       "    <tr>\n",
       "      <th>2</th>\n",
       "      <td>53.333333</td>\n",
       "    </tr>\n",
       "    <tr>\n",
       "      <th>3</th>\n",
       "      <td>53.333333</td>\n",
       "    </tr>\n",
       "    <tr>\n",
       "      <th>4</th>\n",
       "      <td>106.666667</td>\n",
       "    </tr>\n",
       "    <tr>\n",
       "      <th>5</th>\n",
       "      <td>71.666667</td>\n",
       "    </tr>\n",
       "    <tr>\n",
       "      <th>6</th>\n",
       "      <td>161.666667</td>\n",
       "    </tr>\n",
       "    <tr>\n",
       "      <th>7</th>\n",
       "      <td>56.666667</td>\n",
       "    </tr>\n",
       "    <tr>\n",
       "      <th>8</th>\n",
       "      <td>38.333333</td>\n",
       "    </tr>\n",
       "    <tr>\n",
       "      <th>9</th>\n",
       "      <td>66.666667</td>\n",
       "    </tr>\n",
       "  </tbody>\n",
       "</table>\n",
       "</div>"
      ],
      "text/plain": [
       "   Appliances\n",
       "0   56.666667\n",
       "1   55.000000\n",
       "2   53.333333\n",
       "3   53.333333\n",
       "4  106.666667\n",
       "5   71.666667\n",
       "6  161.666667\n",
       "7   56.666667\n",
       "8   38.333333\n",
       "9   66.666667"
      ]
     },
     "execution_count": 31,
     "metadata": {},
     "output_type": "execute_result"
    }
   ],
   "source": [
    "test_data.head(10)"
   ]
  },
  {
   "cell_type": "code",
   "execution_count": 32,
   "id": "ef4b5b93",
   "metadata": {},
   "outputs": [
    {
     "data": {
      "text/plain": [
       "<AxesSubplot:>"
      ]
     },
     "execution_count": 32,
     "metadata": {},
     "output_type": "execute_result"
    },
    {
     "data": {
      "text/plain": [
       "<Figure size 2016x504 with 0 Axes>"
      ]
     },
     "metadata": {},
     "output_type": "display_data"
    },
    {
     "data": {
      "image/png": "[encoded data removed]",
      "text/plain": [
       "<Figure size 864x360 with 1 Axes>"
      ]
     },
     "metadata": {
      "needs_background": "light"
     },
     "output_type": "display_data"
    }
   ],
   "source": [
    "test_vs_pred=pd.concat([test_data['Appliances'],predictions['Predicted']],axis=1,ignore_index=True)\n",
    "\n",
    "plt.figure(figsize=(28,7))\n",
    "fig = plt.figure(1)\n",
    "\n",
    "test_vs_pred.plot(figsize=(12,5))"
   ]
  },
  {
   "cell_type": "code",
   "execution_count": 33,
   "id": "dee27896",
   "metadata": {},
   "outputs": [
    {
     "name": "stdout",
     "output_type": "stream",
     "text": [
      "RMSE : 83.1934047346784\n"
     ]
    }
   ],
   "source": [
    "rmse = sqrt(mean_squared_error(test_data, predictions))\n",
    "print(\"RMSE :\",rmse)"
   ]
  },
  {
   "cell_type": "code",
   "execution_count": 34,
   "id": "6c9a787a",
   "metadata": {},
   "outputs": [],
   "source": [
    "test_vs_pred.rename({0:'Actual',1:'Predicted'},inplace=True,axis=1)"
   ]
  },
  {
   "cell_type": "code",
   "execution_count": 35,
   "id": "795e1c18",
   "metadata": {},
   "outputs": [
    {
     "data": {
      "text/html": [
       "<div>\n",
       "<style scoped>\n",
       "    .dataframe tbody tr th:only-of-type {\n",
       "        vertical-align: middle;\n",
       "    }\n",
       "\n",
       "    .dataframe tbody tr th {\n",
       "        vertical-align: top;\n",
       "    }\n",
       "\n",
       "    .dataframe thead th {\n",
       "        text-align: right;\n",
       "    }\n",
       "</style>\n",
       "<table border=\"1\" class=\"dataframe\">\n",
       "  <thead>\n",
       "    <tr style=\"text-align: right;\">\n",
       "      <th></th>\n",
       "      <th>Actual</th>\n",
       "      <th>Predicted</th>\n",
       "    </tr>\n",
       "  </thead>\n",
       "  <tbody>\n",
       "    <tr>\n",
       "      <th>0</th>\n",
       "      <td>56.666667</td>\n",
       "      <td>49.207286</td>\n",
       "    </tr>\n",
       "    <tr>\n",
       "      <th>1</th>\n",
       "      <td>55.000000</td>\n",
       "      <td>56.974923</td>\n",
       "    </tr>\n",
       "    <tr>\n",
       "      <th>2</th>\n",
       "      <td>53.333333</td>\n",
       "      <td>54.277699</td>\n",
       "    </tr>\n",
       "    <tr>\n",
       "      <th>3</th>\n",
       "      <td>53.333333</td>\n",
       "      <td>63.856030</td>\n",
       "    </tr>\n",
       "    <tr>\n",
       "      <th>4</th>\n",
       "      <td>106.666667</td>\n",
       "      <td>66.210337</td>\n",
       "    </tr>\n",
       "    <tr>\n",
       "      <th>5</th>\n",
       "      <td>71.666667</td>\n",
       "      <td>77.179582</td>\n",
       "    </tr>\n",
       "    <tr>\n",
       "      <th>6</th>\n",
       "      <td>161.666667</td>\n",
       "      <td>83.256092</td>\n",
       "    </tr>\n",
       "    <tr>\n",
       "      <th>7</th>\n",
       "      <td>56.666667</td>\n",
       "      <td>95.932902</td>\n",
       "    </tr>\n",
       "    <tr>\n",
       "      <th>8</th>\n",
       "      <td>38.333333</td>\n",
       "      <td>102.589173</td>\n",
       "    </tr>\n",
       "    <tr>\n",
       "      <th>9</th>\n",
       "      <td>66.666667</td>\n",
       "      <td>115.502268</td>\n",
       "    </tr>\n",
       "  </tbody>\n",
       "</table>\n",
       "</div>"
      ],
      "text/plain": [
       "       Actual   Predicted\n",
       "0   56.666667   49.207286\n",
       "1   55.000000   56.974923\n",
       "2   53.333333   54.277699\n",
       "3   53.333333   63.856030\n",
       "4  106.666667   66.210337\n",
       "5   71.666667   77.179582\n",
       "6  161.666667   83.256092\n",
       "7   56.666667   95.932902\n",
       "8   38.333333  102.589173\n",
       "9   66.666667  115.502268"
      ]
     },
     "execution_count": 35,
     "metadata": {},
     "output_type": "execute_result"
    }
   ],
   "source": [
    "test_vs_pred.head(10)"
   ]
  }
 ],
 "metadata": {
  "kernelspec": {
   "display_name": "Python 3",
   "language": "python",
   "name": "python3"
  },
  "language_info": {
   "codemirror_mode": {
    "name": "ipython",
    "version": 3
   },
   "file_extension": ".py",
   "mimetype": "text/x-python",
   "name": "python",
   "nbconvert_exporter": "python",
   "pygments_lexer": "ipython3",
   "version": "3.8.8"
  }
 },
 "nbformat": 4,
 "nbformat_minor": 5
}
